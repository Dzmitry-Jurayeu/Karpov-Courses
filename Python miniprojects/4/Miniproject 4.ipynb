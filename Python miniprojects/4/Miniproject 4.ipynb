{
 "cells": [
  {
   "cell_type": "markdown",
   "id": "eeb20c48",
   "metadata": {},
   "source": [
    "## Задачи\n",
    "<ol>\n",
    "<li>Загрузите датасет transaction_data.csv. Проверьте размер таблицы, типы переменных, число пропущенных значений и описательную статистику.</li>\n",
    "<li>Какие значения находятся в колонке transaction? Сколько наблюдений относятся к тому или иному уровню? Визуализируйте результат с помощью барплота. Подумайте, как можно улучшить график.</li>\n",
    "<li>Сколько транзакций завершились ошибкой?</li>\n",
    "<li>Сколько успешных транзакций осуществил каждый из пользователей? Постройте гистограмму распределения числа успешных транзакций.</li>\n",
    "<li>Коллега прислал Вам обновленные данные. Постройте сводную таблицу user_vs_minute_pivot, где в качестве столбцов будут использованы имена пользователей, строк – минуты, значений – число совершенных операций в указанную минуту. Пропущенные значения заполните нулями.</li>\n",
    "<li>Изучите представленный график. Помогите коллеге разобраться,  есть ли в данных ошибка, или же всё хорошо.</li>\n",
    "<li>Если в данные закралась ошибка, исправьте её и сохраните правильное число минут, прошедших с начала дня, в колонку true_minute.</li>\n",
    "</ol>\n",
    "\n",
    "#### Описание данных:\n",
    "* date – дата (2020-03-02 00:00:00 – 2020-03-02 01:29:05)\n",
    "* name – имя пользователя\n",
    "* transaction – статус транзакции\n",
    "* minute – сколько минут прошло с начала дня (доступна в данных с 5 шага)."
   ]
  },
  {
   "cell_type": "code",
   "execution_count": 1,
   "id": "b4790cc7",
   "metadata": {},
   "outputs": [],
   "source": [
    "# Загрузите датасет transaction_data.csv.\n",
    "# Проверьте размер таблицы, типы переменных, число пропущенных значений и описательную статистику."
   ]
  },
  {
   "cell_type": "code",
   "execution_count": 2,
   "id": "9090c6bc",
   "metadata": {},
   "outputs": [],
   "source": [
    "import pandas as pd\n",
    "import matplotlib.pyplot as plt\n",
    "import seaborn as sns"
   ]
  },
  {
   "cell_type": "code",
   "execution_count": 3,
   "id": "8e3e7790",
   "metadata": {},
   "outputs": [],
   "source": [
    "transaction_df = pd.read_csv('transaction_data.csv')"
   ]
  },
  {
   "cell_type": "code",
   "execution_count": 4,
   "id": "0cbd53f0",
   "metadata": {},
   "outputs": [
    {
     "data": {
      "text/plain": [
       "(5315, 3)"
      ]
     },
     "execution_count": 4,
     "metadata": {},
     "output_type": "execute_result"
    }
   ],
   "source": [
    "transaction_df.shape"
   ]
  },
  {
   "cell_type": "code",
   "execution_count": 5,
   "id": "b6419496",
   "metadata": {},
   "outputs": [
    {
     "data": {
      "text/plain": [
       "date           object\n",
       "name           object\n",
       "transaction    object\n",
       "dtype: object"
      ]
     },
     "execution_count": 5,
     "metadata": {},
     "output_type": "execute_result"
    }
   ],
   "source": [
    "transaction_df.dtypes"
   ]
  },
  {
   "cell_type": "code",
   "execution_count": 6,
   "id": "ce9452ec",
   "metadata": {},
   "outputs": [
    {
     "data": {
      "text/plain": [
       "date           0\n",
       "name           0\n",
       "transaction    0\n",
       "dtype: int64"
      ]
     },
     "execution_count": 6,
     "metadata": {},
     "output_type": "execute_result"
    }
   ],
   "source": [
    "transaction_df.isna().sum()"
   ]
  },
  {
   "cell_type": "code",
   "execution_count": 7,
   "id": "36d9be0f",
   "metadata": {},
   "outputs": [
    {
     "data": {
      "text/html": [
       "<div>\n",
       "<style scoped>\n",
       "    .dataframe tbody tr th:only-of-type {\n",
       "        vertical-align: middle;\n",
       "    }\n",
       "\n",
       "    .dataframe tbody tr th {\n",
       "        vertical-align: top;\n",
       "    }\n",
       "\n",
       "    .dataframe thead th {\n",
       "        text-align: right;\n",
       "    }\n",
       "</style>\n",
       "<table border=\"1\" class=\"dataframe\">\n",
       "  <thead>\n",
       "    <tr style=\"text-align: right;\">\n",
       "      <th></th>\n",
       "      <th>date</th>\n",
       "      <th>name</th>\n",
       "      <th>transaction</th>\n",
       "    </tr>\n",
       "  </thead>\n",
       "  <tbody>\n",
       "    <tr>\n",
       "      <th>count</th>\n",
       "      <td>5315</td>\n",
       "      <td>5315</td>\n",
       "      <td>5315</td>\n",
       "    </tr>\n",
       "    <tr>\n",
       "      <th>unique</th>\n",
       "      <td>3373</td>\n",
       "      <td>56</td>\n",
       "      <td>3</td>\n",
       "    </tr>\n",
       "    <tr>\n",
       "      <th>top</th>\n",
       "      <td>2020-03-02 00:33:10</td>\n",
       "      <td>Masha_Ozerova</td>\n",
       "      <td>successfull</td>\n",
       "    </tr>\n",
       "    <tr>\n",
       "      <th>freq</th>\n",
       "      <td>6</td>\n",
       "      <td>112</td>\n",
       "      <td>3692</td>\n",
       "    </tr>\n",
       "  </tbody>\n",
       "</table>\n",
       "</div>"
      ],
      "text/plain": [
       "                       date           name  transaction\n",
       "count                  5315           5315         5315\n",
       "unique                 3373             56            3\n",
       "top     2020-03-02 00:33:10  Masha_Ozerova  successfull\n",
       "freq                      6            112         3692"
      ]
     },
     "execution_count": 7,
     "metadata": {},
     "output_type": "execute_result"
    }
   ],
   "source": [
    "transaction_df.describe()"
   ]
  },
  {
   "cell_type": "code",
   "execution_count": null,
   "id": "827444c4",
   "metadata": {},
   "outputs": [],
   "source": []
  },
  {
   "cell_type": "code",
   "execution_count": 8,
   "id": "8fe71a37",
   "metadata": {},
   "outputs": [],
   "source": [
    "# Проверьте, какие значения принимает колонка transaction.\n",
    "# Сколько наблюдений относятся к тому или иному уровню?\n",
    "# Визуализируйте результат с помощью барплота."
   ]
  },
  {
   "cell_type": "code",
   "execution_count": 9,
   "id": "280256bb",
   "metadata": {},
   "outputs": [
    {
     "data": {
      "text/plain": [
       "array(['cancelled', 'successfull', 'error'], dtype=object)"
      ]
     },
     "execution_count": 9,
     "metadata": {},
     "output_type": "execute_result"
    }
   ],
   "source": [
    "transaction_type = transaction_df.transaction.unique()\n",
    "transaction_type"
   ]
  },
  {
   "cell_type": "code",
   "execution_count": 10,
   "id": "3abfecf0",
   "metadata": {},
   "outputs": [
    {
     "data": {
      "text/plain": [
       "successfull    3692\n",
       "cancelled      1619\n",
       "error             4\n",
       "Name: transaction, dtype: int64"
      ]
     },
     "execution_count": 10,
     "metadata": {},
     "output_type": "execute_result"
    }
   ],
   "source": [
    "transaction_number = transaction_df.transaction.value_counts()\n",
    "transaction_number"
   ]
  },
  {
   "cell_type": "code",
   "execution_count": 11,
   "id": "dbc149e8",
   "metadata": {},
   "outputs": [
    {
     "data": {
      "text/plain": [
       "<AxesSubplot:>"
      ]
     },
     "execution_count": 11,
     "metadata": {},
     "output_type": "execute_result"
    },
    {
     "data": {
      "image/png": "[encoded data removed]",
      "text/plain": [
       "<Figure size 432x288 with 1 Axes>"
      ]
     },
     "metadata": {
      "needs_background": "light"
     },
     "output_type": "display_data"
    }
   ],
   "source": [
    "transaction_number.plot.bar()"
   ]
  },
  {
   "cell_type": "code",
   "execution_count": 12,
   "id": "0b7b6e07",
   "metadata": {
    "scrolled": false
   },
   "outputs": [
    {
     "data": {
      "text/plain": [
       "<AxesSubplot:ylabel='transaction'>"
      ]
     },
     "execution_count": 12,
     "metadata": {},
     "output_type": "execute_result"
    },
    {
     "data": {
      "image/png": "[encoded data removed]",
      "text/plain": [
       "<Figure size 864x576 with 1 Axes>"
      ]
     },
     "metadata": {
      "needs_background": "light"
     },
     "output_type": "display_data"
    }
   ],
   "source": [
    "plt.figure(figsize=(12,8))\n",
    "sns.barplot(x=transaction_number.index, y=transaction_number)"
   ]
  },
  {
   "cell_type": "code",
   "execution_count": 13,
   "id": "78051b2d",
   "metadata": {},
   "outputs": [
    {
     "data": {
      "text/plain": [
       "<AxesSubplot:ylabel='transaction'>"
      ]
     },
     "execution_count": 13,
     "metadata": {},
     "output_type": "execute_result"
    },
    {
     "data": {
      "image/png": "[encoded data removed]",
      "text/plain": [
       "<Figure size 864x576 with 1 Axes>"
      ]
     },
     "metadata": {
      "needs_background": "light"
     },
     "output_type": "display_data"
    }
   ],
   "source": [
    "plt.figure(figsize=(12,8))\n",
    "sns.barplot(x=transaction_number.index, y=transaction_number, log=True)"
   ]
  },
  {
   "cell_type": "code",
   "execution_count": null,
   "id": "2c1ff71c",
   "metadata": {},
   "outputs": [],
   "source": []
  },
  {
   "cell_type": "code",
   "execution_count": 14,
   "id": "85fb0ca2",
   "metadata": {},
   "outputs": [],
   "source": [
    "# Сколько транзакций завершились ошибкой?"
   ]
  },
  {
   "cell_type": "code",
   "execution_count": 15,
   "id": "872256e8",
   "metadata": {},
   "outputs": [
    {
     "data": {
      "text/plain": [
       "4"
      ]
     },
     "execution_count": 15,
     "metadata": {},
     "output_type": "execute_result"
    }
   ],
   "source": [
    "transaction_df.query('transaction == \"error\"').transaction.count()"
   ]
  },
  {
   "cell_type": "code",
   "execution_count": null,
   "id": "4925bce0",
   "metadata": {},
   "outputs": [],
   "source": []
  },
  {
   "cell_type": "code",
   "execution_count": 16,
   "id": "addd8baa",
   "metadata": {},
   "outputs": [],
   "source": [
    "# Сколько транзакций осуществил каждый из пользователей?\n",
    "# Осуществлёнными считаются транзакции со значением successfull\n",
    "# Посмотрите на характеристики распределения, а затем постройте гистограмму числа успешных транзакций,\n",
    "# совершённых каждым пользователем, где\n",
    "# по оси x – число транзакций\n",
    "# по оси y – доля пользователей с таким числом транзакций"
   ]
  },
  {
   "cell_type": "code",
   "execution_count": 17,
   "id": "7e22e885",
   "metadata": {},
   "outputs": [
    {
     "data": {
      "text/plain": [
       "Svetlana_Smirnova      82\n",
       "Olga_Smirnova          80\n",
       "Masha_Ozerova          80\n",
       "Svetlana_Ivanova       79\n",
       "Masha_Polyanova        78\n",
       "Svetlana_Polyanova     78\n",
       "Ekaterina_Smirnova     77\n",
       "Irina_Ozerova          76\n",
       "Irina_Lesnova          76\n",
       "Lolita_Ivanova         76\n",
       "Julia_Petrova          74\n",
       "Masha_Ivanova          73\n",
       "Olga_Fedorova          72\n",
       "Ekaterina_Fedorova     72\n",
       "Ekaterina_Ozerova      72\n",
       "Olga_Polyanova         70\n",
       "Lolita_Fedorova        70\n",
       "Masha_Fedorova         69\n",
       "Ekaterina_Polyanova    68\n",
       "Ekaterina_Petrova      68\n",
       "Julia_Smirnova         67\n",
       "Svetlana_Fedorova      67\n",
       "Olga_Petrova           67\n",
       "Julia_Fedorova         67\n",
       "Irina_Petrova          66\n",
       "Lolita_Smirnova        65\n",
       "Olga_Ozerova           65\n",
       "Lolita_Petrova         64\n",
       "Olga_Ivanova           64\n",
       "Vasilisa_Smirnova      64\n",
       "Masha_Lesnova          63\n",
       "Julia_Ivanova          63\n",
       "Vasilisa_Petrova       63\n",
       "Irina_Smirnova         63\n",
       "Lolita_Ozerova         63\n",
       "Ekaterina_Lesnova      63\n",
       "Masha_Petrova          62\n",
       "Vasilisa_Ozerova       62\n",
       "Svetlana_Ozerova       62\n",
       "Irina_Fedorova         62\n",
       "Vasilisa_Ivanova       62\n",
       "Vasilisa_Fedorova      61\n",
       "Julia_Polyanova        61\n",
       "Irina_Ivanova          60\n",
       "Svetlana_Lesnova       60\n",
       "Julia_Ozerova          60\n",
       "Irina_Polyanova        59\n",
       "Ekaterina_Ivanova      59\n",
       "Lolita_Polyanova       59\n",
       "Svetlana_Petrova       58\n",
       "Masha_Smirnova         57\n",
       "Olga_Lesnova           56\n",
       "Vasilisa_Lesnova       55\n",
       "Julia_Lesnova          55\n",
       "Lolita_Lesnova         52\n",
       "Vasilisa_Polyanova     46\n",
       "Name: transactions_number, dtype: int64"
      ]
     },
     "execution_count": 17,
     "metadata": {},
     "output_type": "execute_result"
    }
   ],
   "source": [
    "success_users_transactions = transaction_df.query('transaction == \"successfull\"') \\\n",
    "                                           .name.value_counts() \\\n",
    "                                           .rename('transactions_number')\n",
    "success_users_transactions"
   ]
  },
  {
   "cell_type": "code",
   "execution_count": 18,
   "id": "474932de",
   "metadata": {},
   "outputs": [
    {
     "data": {
      "text/plain": [
       "<AxesSubplot:>"
      ]
     },
     "execution_count": 18,
     "metadata": {},
     "output_type": "execute_result"
    },
    {
     "data": {
      "image/png": "[encoded data removed]",
      "text/plain": [
       "<Figure size 432x288 with 1 Axes>"
      ]
     },
     "metadata": {
      "needs_background": "light"
     },
     "output_type": "display_data"
    }
   ],
   "source": [
    "success_users_transactions.hist()"
   ]
  },
  {
   "cell_type": "code",
   "execution_count": 19,
   "id": "b0dd7a06",
   "metadata": {},
   "outputs": [
    {
     "name": "stderr",
     "output_type": "stream",
     "text": [
      "C:\\ProgramData\\Anaconda3\\lib\\site-packages\\seaborn\\distributions.py:2619: FutureWarning: `distplot` is a deprecated function and will be removed in a future version. Please adapt your code to use either `displot` (a figure-level function with similar flexibility) or `histplot` (an axes-level function for histograms).\n",
      "  warnings.warn(msg, FutureWarning)\n"
     ]
    },
    {
     "data": {
      "text/plain": [
       "<AxesSubplot:xlabel='transactions_number'>"
      ]
     },
     "execution_count": 19,
     "metadata": {},
     "output_type": "execute_result"
    },
    {
     "data": {
      "image/png": "[encoded data removed]",
      "text/plain": [
       "<Figure size 432x288 with 1 Axes>"
      ]
     },
     "metadata": {
      "needs_background": "light"
     },
     "output_type": "display_data"
    }
   ],
   "source": [
    "sns.distplot(success_users_transactions, kde=False)"
   ]
  },
  {
   "cell_type": "code",
   "execution_count": 20,
   "id": "a4694d02",
   "metadata": {},
   "outputs": [
    {
     "data": {
      "text/plain": [
       "64.0"
      ]
     },
     "execution_count": 20,
     "metadata": {},
     "output_type": "execute_result"
    }
   ],
   "source": [
    "success_users_transactions.median()"
   ]
  },
  {
   "cell_type": "code",
   "execution_count": 21,
   "id": "a4543cf7",
   "metadata": {},
   "outputs": [
    {
     "data": {
      "text/plain": [
       "65.92857142857143"
      ]
     },
     "execution_count": 21,
     "metadata": {},
     "output_type": "execute_result"
    }
   ],
   "source": [
    "success_users_transactions.mean()"
   ]
  },
  {
   "cell_type": "code",
   "execution_count": 22,
   "id": "6dc5441d",
   "metadata": {},
   "outputs": [
    {
     "data": {
      "text/plain": [
       "61.0"
      ]
     },
     "execution_count": 22,
     "metadata": {},
     "output_type": "execute_result"
    }
   ],
   "source": [
    "success_users_transactions.quantile(0.25)"
   ]
  },
  {
   "cell_type": "code",
   "execution_count": null,
   "id": "fe3bdab6",
   "metadata": {},
   "outputs": [],
   "source": []
  },
  {
   "cell_type": "code",
   "execution_count": 23,
   "id": "c1999c99",
   "metadata": {},
   "outputs": [],
   "source": [
    "# Коллега прислал Вам обновленные данные.\n",
    "# Постройте сводную таблицу user_vs_minute_pivot, где в качестве столбцов будут использованы имена пользователей,\n",
    "# строк – минуты, значений – число совершенных операций в указанную минуту.\n",
    "# Пропущенные значения заполните нулями."
   ]
  },
  {
   "cell_type": "code",
   "execution_count": 24,
   "id": "da7cece2",
   "metadata": {},
   "outputs": [
    {
     "data": {
      "text/html": [
       "<div>\n",
       "<style scoped>\n",
       "    .dataframe tbody tr th:only-of-type {\n",
       "        vertical-align: middle;\n",
       "    }\n",
       "\n",
       "    .dataframe tbody tr th {\n",
       "        vertical-align: top;\n",
       "    }\n",
       "\n",
       "    .dataframe thead th {\n",
       "        text-align: right;\n",
       "    }\n",
       "</style>\n",
       "<table border=\"1\" class=\"dataframe\">\n",
       "  <thead>\n",
       "    <tr style=\"text-align: right;\">\n",
       "      <th></th>\n",
       "      <th>date</th>\n",
       "      <th>name</th>\n",
       "      <th>transaction</th>\n",
       "      <th>minute</th>\n",
       "    </tr>\n",
       "  </thead>\n",
       "  <tbody>\n",
       "    <tr>\n",
       "      <th>0</th>\n",
       "      <td>2020-03-02 00:37:20</td>\n",
       "      <td>Ekaterina_Petrova</td>\n",
       "      <td>cancelled</td>\n",
       "      <td>37</td>\n",
       "    </tr>\n",
       "    <tr>\n",
       "      <th>1</th>\n",
       "      <td>2020-03-02 00:59:09</td>\n",
       "      <td>Irina_Fedorova</td>\n",
       "      <td>successfull</td>\n",
       "      <td>59</td>\n",
       "    </tr>\n",
       "    <tr>\n",
       "      <th>2</th>\n",
       "      <td>2020-03-02 01:06:14</td>\n",
       "      <td>Ekaterina_Smirnova</td>\n",
       "      <td>successfull</td>\n",
       "      <td>6</td>\n",
       "    </tr>\n",
       "    <tr>\n",
       "      <th>3</th>\n",
       "      <td>2020-03-02 00:02:58</td>\n",
       "      <td>Lolita_Polyanova</td>\n",
       "      <td>cancelled</td>\n",
       "      <td>2</td>\n",
       "    </tr>\n",
       "    <tr>\n",
       "      <th>4</th>\n",
       "      <td>2020-03-02 00:17:52</td>\n",
       "      <td>Julia_Smirnova</td>\n",
       "      <td>cancelled</td>\n",
       "      <td>17</td>\n",
       "    </tr>\n",
       "    <tr>\n",
       "      <th>...</th>\n",
       "      <td>...</td>\n",
       "      <td>...</td>\n",
       "      <td>...</td>\n",
       "      <td>...</td>\n",
       "    </tr>\n",
       "    <tr>\n",
       "      <th>5310</th>\n",
       "      <td>2020-03-02 00:09:28</td>\n",
       "      <td>Vasilisa_Fedorova</td>\n",
       "      <td>successfull</td>\n",
       "      <td>9</td>\n",
       "    </tr>\n",
       "    <tr>\n",
       "      <th>5311</th>\n",
       "      <td>2020-03-02 00:46:31</td>\n",
       "      <td>Vasilisa_Ozerova</td>\n",
       "      <td>successfull</td>\n",
       "      <td>46</td>\n",
       "    </tr>\n",
       "    <tr>\n",
       "      <th>5312</th>\n",
       "      <td>2020-03-02 00:16:38</td>\n",
       "      <td>Olga_Polyanova</td>\n",
       "      <td>successfull</td>\n",
       "      <td>16</td>\n",
       "    </tr>\n",
       "    <tr>\n",
       "      <th>5313</th>\n",
       "      <td>2020-03-02 00:13:00</td>\n",
       "      <td>Ekaterina_Smirnova</td>\n",
       "      <td>successfull</td>\n",
       "      <td>13</td>\n",
       "    </tr>\n",
       "    <tr>\n",
       "      <th>5314</th>\n",
       "      <td>2020-03-02 01:15:45</td>\n",
       "      <td>Irina_Fedorova</td>\n",
       "      <td>cancelled</td>\n",
       "      <td>15</td>\n",
       "    </tr>\n",
       "  </tbody>\n",
       "</table>\n",
       "<p>5315 rows × 4 columns</p>\n",
       "</div>"
      ],
      "text/plain": [
       "                    date                name  transaction  minute\n",
       "0    2020-03-02 00:37:20   Ekaterina_Petrova    cancelled      37\n",
       "1    2020-03-02 00:59:09      Irina_Fedorova  successfull      59\n",
       "2    2020-03-02 01:06:14  Ekaterina_Smirnova  successfull       6\n",
       "3    2020-03-02 00:02:58    Lolita_Polyanova    cancelled       2\n",
       "4    2020-03-02 00:17:52      Julia_Smirnova    cancelled      17\n",
       "...                  ...                 ...          ...     ...\n",
       "5310 2020-03-02 00:09:28   Vasilisa_Fedorova  successfull       9\n",
       "5311 2020-03-02 00:46:31    Vasilisa_Ozerova  successfull      46\n",
       "5312 2020-03-02 00:16:38      Olga_Polyanova  successfull      16\n",
       "5313 2020-03-02 00:13:00  Ekaterina_Smirnova  successfull      13\n",
       "5314 2020-03-02 01:15:45      Irina_Fedorova    cancelled      15\n",
       "\n",
       "[5315 rows x 4 columns]"
      ]
     },
     "execution_count": 24,
     "metadata": {},
     "output_type": "execute_result"
    }
   ],
   "source": [
    "transaction_df_updated = pd.read_csv('transaction_data_updated.csv', parse_dates=['date'])\n",
    "transaction_df_updated"
   ]
  },
  {
   "cell_type": "code",
   "execution_count": 25,
   "id": "a9606be4",
   "metadata": {},
   "outputs": [],
   "source": [
    "user_vs_minute_pivot = transaction_df_updated.groupby(['name', 'minute'], as_index=False) \\\n",
    "                                                .agg({'transaction': 'count'}) \\\n",
    "                                                .pivot(index='minute', columns='name', values='transaction') \\\n",
    "                                                .fillna(0)"
   ]
  },
  {
   "cell_type": "code",
   "execution_count": 26,
   "id": "7e80eebe",
   "metadata": {},
   "outputs": [],
   "source": [
    "user_vs_minute_pivot = transaction_df_updated.pivot_table(index='minute',\n",
    "                                                          columns='name',\n",
    "                                                          values='transaction',\n",
    "                                                          aggfunc='count',\n",
    "                                                          fill_value=0)"
   ]
  },
  {
   "cell_type": "code",
   "execution_count": null,
   "id": "6432316e",
   "metadata": {},
   "outputs": [],
   "source": []
  },
  {
   "cell_type": "code",
   "execution_count": 27,
   "id": "77b34be5",
   "metadata": {},
   "outputs": [],
   "source": [
    "# Коллега построил следующий график по сводной таблице из предыдущего шага,\n",
    "# и сомневается, что в данных нет ошибки. \n",
    "#     по оси x – минута транзакции (сколько минут прошло с начала дня)\n",
    "#     по оси y – число транзакций\n",
    "# Как вы думаете, из-за чего мы видим такую картину?\n",
    "# Произошла ошибка, или с данными всё хорошо?"
   ]
  },
  {
   "cell_type": "code",
   "execution_count": 28,
   "id": "b9b21c14",
   "metadata": {},
   "outputs": [
    {
     "data": {
      "text/plain": [
       "<AxesSubplot:xlabel='minute'>"
      ]
     },
     "execution_count": 28,
     "metadata": {},
     "output_type": "execute_result"
    },
    {
     "data": {
      "image/png": "[encoded data removed]",
      "text/plain": [
       "<Figure size 864x576 with 1 Axes>"
      ]
     },
     "metadata": {
      "needs_background": "light"
     },
     "output_type": "display_data"
    }
   ],
   "source": [
    "user_vs_minute_pivot.sum(axis=1).plot.bar(figsize=(12, 8))"
   ]
  },
  {
   "cell_type": "markdown",
   "id": "945196f8",
   "metadata": {},
   "source": [
    "Произошла ошибка. Извлекли минутную часть времени, а не число минут с начала дня."
   ]
  },
  {
   "cell_type": "code",
   "execution_count": null,
   "id": "df5bcc7f",
   "metadata": {},
   "outputs": [],
   "source": []
  },
  {
   "cell_type": "code",
   "execution_count": 29,
   "id": "2a8c9752",
   "metadata": {},
   "outputs": [],
   "source": [
    "# Исправьте ошибку коллеги (если она есть 😉), и посчитайте число минут, прошедших с начала дня.\n",
    "# Результат сохраните в колонку true_minute.\n",
    "# Постройте график, как в предыдущем шаге, и посмотрите, произошли ли изменения."
   ]
  },
  {
   "cell_type": "code",
   "execution_count": 30,
   "id": "2699451e",
   "metadata": {},
   "outputs": [
    {
     "data": {
      "text/html": [
       "<div>\n",
       "<style scoped>\n",
       "    .dataframe tbody tr th:only-of-type {\n",
       "        vertical-align: middle;\n",
       "    }\n",
       "\n",
       "    .dataframe tbody tr th {\n",
       "        vertical-align: top;\n",
       "    }\n",
       "\n",
       "    .dataframe thead th {\n",
       "        text-align: right;\n",
       "    }\n",
       "</style>\n",
       "<table border=\"1\" class=\"dataframe\">\n",
       "  <thead>\n",
       "    <tr style=\"text-align: right;\">\n",
       "      <th></th>\n",
       "      <th>date</th>\n",
       "      <th>name</th>\n",
       "      <th>transaction</th>\n",
       "      <th>minute</th>\n",
       "      <th>true_minute</th>\n",
       "    </tr>\n",
       "  </thead>\n",
       "  <tbody>\n",
       "    <tr>\n",
       "      <th>0</th>\n",
       "      <td>2020-03-02 00:37:20</td>\n",
       "      <td>Ekaterina_Petrova</td>\n",
       "      <td>cancelled</td>\n",
       "      <td>37</td>\n",
       "      <td>37</td>\n",
       "    </tr>\n",
       "    <tr>\n",
       "      <th>1</th>\n",
       "      <td>2020-03-02 00:59:09</td>\n",
       "      <td>Irina_Fedorova</td>\n",
       "      <td>successfull</td>\n",
       "      <td>59</td>\n",
       "      <td>59</td>\n",
       "    </tr>\n",
       "    <tr>\n",
       "      <th>2</th>\n",
       "      <td>2020-03-02 01:06:14</td>\n",
       "      <td>Ekaterina_Smirnova</td>\n",
       "      <td>successfull</td>\n",
       "      <td>6</td>\n",
       "      <td>66</td>\n",
       "    </tr>\n",
       "    <tr>\n",
       "      <th>3</th>\n",
       "      <td>2020-03-02 00:02:58</td>\n",
       "      <td>Lolita_Polyanova</td>\n",
       "      <td>cancelled</td>\n",
       "      <td>2</td>\n",
       "      <td>2</td>\n",
       "    </tr>\n",
       "    <tr>\n",
       "      <th>4</th>\n",
       "      <td>2020-03-02 00:17:52</td>\n",
       "      <td>Julia_Smirnova</td>\n",
       "      <td>cancelled</td>\n",
       "      <td>17</td>\n",
       "      <td>17</td>\n",
       "    </tr>\n",
       "    <tr>\n",
       "      <th>...</th>\n",
       "      <td>...</td>\n",
       "      <td>...</td>\n",
       "      <td>...</td>\n",
       "      <td>...</td>\n",
       "      <td>...</td>\n",
       "    </tr>\n",
       "    <tr>\n",
       "      <th>5310</th>\n",
       "      <td>2020-03-02 00:09:28</td>\n",
       "      <td>Vasilisa_Fedorova</td>\n",
       "      <td>successfull</td>\n",
       "      <td>9</td>\n",
       "      <td>9</td>\n",
       "    </tr>\n",
       "    <tr>\n",
       "      <th>5311</th>\n",
       "      <td>2020-03-02 00:46:31</td>\n",
       "      <td>Vasilisa_Ozerova</td>\n",
       "      <td>successfull</td>\n",
       "      <td>46</td>\n",
       "      <td>46</td>\n",
       "    </tr>\n",
       "    <tr>\n",
       "      <th>5312</th>\n",
       "      <td>2020-03-02 00:16:38</td>\n",
       "      <td>Olga_Polyanova</td>\n",
       "      <td>successfull</td>\n",
       "      <td>16</td>\n",
       "      <td>16</td>\n",
       "    </tr>\n",
       "    <tr>\n",
       "      <th>5313</th>\n",
       "      <td>2020-03-02 00:13:00</td>\n",
       "      <td>Ekaterina_Smirnova</td>\n",
       "      <td>successfull</td>\n",
       "      <td>13</td>\n",
       "      <td>13</td>\n",
       "    </tr>\n",
       "    <tr>\n",
       "      <th>5314</th>\n",
       "      <td>2020-03-02 01:15:45</td>\n",
       "      <td>Irina_Fedorova</td>\n",
       "      <td>cancelled</td>\n",
       "      <td>15</td>\n",
       "      <td>75</td>\n",
       "    </tr>\n",
       "  </tbody>\n",
       "</table>\n",
       "<p>5315 rows × 5 columns</p>\n",
       "</div>"
      ],
      "text/plain": [
       "                    date                name  transaction  minute  true_minute\n",
       "0    2020-03-02 00:37:20   Ekaterina_Petrova    cancelled      37           37\n",
       "1    2020-03-02 00:59:09      Irina_Fedorova  successfull      59           59\n",
       "2    2020-03-02 01:06:14  Ekaterina_Smirnova  successfull       6           66\n",
       "3    2020-03-02 00:02:58    Lolita_Polyanova    cancelled       2            2\n",
       "4    2020-03-02 00:17:52      Julia_Smirnova    cancelled      17           17\n",
       "...                  ...                 ...          ...     ...          ...\n",
       "5310 2020-03-02 00:09:28   Vasilisa_Fedorova  successfull       9            9\n",
       "5311 2020-03-02 00:46:31    Vasilisa_Ozerova  successfull      46           46\n",
       "5312 2020-03-02 00:16:38      Olga_Polyanova  successfull      16           16\n",
       "5313 2020-03-02 00:13:00  Ekaterina_Smirnova  successfull      13           13\n",
       "5314 2020-03-02 01:15:45      Irina_Fedorova    cancelled      15           75\n",
       "\n",
       "[5315 rows x 5 columns]"
      ]
     },
     "execution_count": 30,
     "metadata": {},
     "output_type": "execute_result"
    }
   ],
   "source": [
    "houres_in_minutes = transaction_df_updated.date.dt.hour * 60\n",
    "minutes = transaction_df_updated.date.dt.minute\n",
    "transaction_df_updated = transaction_df_updated.assign(true_minute = houres_in_minutes + minutes)\n",
    "transaction_df_updated"
   ]
  },
  {
   "cell_type": "code",
   "execution_count": 31,
   "id": "8fa11f61",
   "metadata": {},
   "outputs": [
    {
     "data": {
      "text/plain": [
       "<AxesSubplot:xlabel='true_minute', ylabel='count'>"
      ]
     },
     "execution_count": 31,
     "metadata": {},
     "output_type": "execute_result"
    },
    {
     "data": {
      "image/png": "[encoded data removed]",
      "text/plain": [
       "<Figure size 1728x1152 with 1 Axes>"
      ]
     },
     "metadata": {
      "needs_background": "light"
     },
     "output_type": "display_data"
    }
   ],
   "source": [
    "plt.figure(figsize=(24,16))\n",
    "sns.countplot(x='true_minute', data=transaction_df_updated, color='#2b8cbe')"
   ]
  },
  {
   "cell_type": "code",
   "execution_count": null,
   "id": "df1e3f56",
   "metadata": {},
   "outputs": [],
   "source": []
  }
 ],
 "metadata": {
  "kernelspec": {
   "display_name": "Python 3 (ipykernel)",
   "language": "python",
   "name": "python3"
  },
  "language_info": {
   "codemirror_mode": {
    "name": "ipython",
    "version": 3
   },
   "file_extension": ".py",
   "mimetype": "text/x-python",
   "name": "python",
   "nbconvert_exporter": "python",
   "pygments_lexer": "ipython3",
   "version": "3.8.12"
  }
 },
 "nbformat": 4,
 "nbformat_minor": 5
}
