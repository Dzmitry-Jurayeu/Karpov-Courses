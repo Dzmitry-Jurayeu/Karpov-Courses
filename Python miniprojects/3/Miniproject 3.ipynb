{
 "cells": [
  {
   "cell_type": "markdown",
   "metadata": {},
   "source": [
    "## Описание\n",
    "\n",
    "На этот раз данные имеют следующую структуру:\n",
    "* записываются для каждого пользователя, совершившего покупки, каждый день\n",
    "* для каждой даты есть своя папка, внутри неё – папки для каждого пользователя\n",
    "* внутри каждой папки есть файл data.csv, где и хранятся данные\n",
    "\n",
    "Схематично выглядит так:\n",
    "* data:\n",
    "    * 2020-12-30:\n",
    "        * FirstName_LastName1:\n",
    "            * data.csv\n",
    "        * FirstName_LastName2:\n",
    "            * data.csv\n",
    "        * FirstName_LastName3:\n",
    "            * data.csv\n",
    "    * 2020-12-31:\n",
    "        * FirstName_LastName1:\n",
    "            * data.csv\n",
    "        * FirstName_LastName5:\n",
    "            * data.csv\n",
    "\n",
    "Например, 30 декабря три покупателя сделали покупки, 31 – два (папки 2020-12-30 и 2020-12-31 соответственно). Поскольку клиент FirstName_LastName1 купил товары в оба дня, для него имеется папка в папке для каждой из дат. Для других клиентов – по одной.\n",
    "\n",
    "Note: данные в задании покрывают другой временной период, имена тоже другие.\n",
    "\n",
    "#### Задачи\n",
    "<ol>\n",
    "<li>Соберите все данные из папки data в один датафрэйм, имеющий следующие столбцы: колонки из самих файлов (product_id, quantity), а также имя пользователя (name), и дата этих покупок (date), соответствует названию папки, где лежит папка с пользователем)</li>\n",
    "<li>Выясните, какой пользователь купил больше всего товаров. Если их несколько, то перечислите имена через запятую с пробелом и в алфавитном порядке.</li>\n",
    "<li>Найдите топ-10 товаров по числу проданных единиц за всё время и постройте барплот. Сколько было продано единиц товара с product_id==56?</li>\n",
    "<li>Визуализируйте продажи по дням.</li>\n",
    "<li>Сколько пользователей приобрели какой-либо товар повторно (более 1 раза)? Повтором будем считать покупку товара с одинаковым product_id, совершенную в разные дни. </li>\n",
    "</ol>"
   ]
  },
  {
   "cell_type": "code",
   "execution_count": 1,
   "metadata": {},
   "outputs": [],
   "source": [
    "# Импортируем необходимые библиотеки\n",
    "import pandas as pd\n",
    "import os\n",
    "import matplotlib.pyplot as plt\n",
    "import seaborn as sns"
   ]
  },
  {
   "cell_type": "code",
   "execution_count": 2,
   "metadata": {},
   "outputs": [],
   "source": [
    "# Создание датафрэйма и добавление в него всех имеющихся данных\n",
    "df = pd.DataFrame()\n",
    "\n",
    "for path, dirs, files in os.walk('data'):\n",
    "    for file in files:\n",
    "        temp_df = pd.read_csv(f'{path}\\\\{file}', usecols=['product_id', 'quantity'])\n",
    "        temp_df['name'] = path.split(\"\\\\\")[-1]\n",
    "        temp_df['date'] = path.split(\"\\\\\")[-2]\n",
    "        df = pd.concat([df, temp_df], ignore_index=True)"
   ]
  },
  {
   "cell_type": "code",
   "execution_count": 3,
   "metadata": {},
   "outputs": [],
   "source": [
    "# Получение того же результата при помощи библиотеки Pathlib (Вариант 1)\n",
    "from pathlib import Path\n",
    "\n",
    "df = pd.DataFrame()\n",
    "\n",
    "for path, dirs, files in os.walk('data'):\n",
    "    for file in files:\n",
    "        part_path = Path(path)\n",
    "        data_path = part_path / file\n",
    "        temp_df = pd.read_csv(data_path, usecols=['product_id', 'quantity'])\n",
    "        temp_df['name'] = data_path.parts[-2]\n",
    "        temp_df['date'] = data_path.parts[-3]\n",
    "        df = pd.concat([df, temp_df], ignore_index=True)"
   ]
  },
  {
   "cell_type": "code",
   "execution_count": 4,
   "metadata": {},
   "outputs": [],
   "source": [
    "# Получение того же результата при помощи библиотеки Pathlib (Вариант 2)\n",
    "df = pd.DataFrame()\n",
    "path = Path('data')\n",
    "for csv_path in path.glob('**/*.csv'):\n",
    "    temp_df = pd.read_csv(csv_path, usecols=['product_id', 'quantity'])\n",
    "    temp_df['name'] = csv_path.parts[-2]\n",
    "    temp_df['date'] = csv_path.parts[-3]\n",
    "    df = pd.concat([df, temp_df], ignore_index=True)"
   ]
  },
  {
   "cell_type": "code",
   "execution_count": 5,
   "metadata": {},
   "outputs": [
    {
     "data": {
      "text/html": [
       "<div>\n",
       "<style scoped>\n",
       "    .dataframe tbody tr th:only-of-type {\n",
       "        vertical-align: middle;\n",
       "    }\n",
       "\n",
       "    .dataframe tbody tr th {\n",
       "        vertical-align: top;\n",
       "    }\n",
       "\n",
       "    .dataframe thead th {\n",
       "        text-align: right;\n",
       "    }\n",
       "</style>\n",
       "<table border=\"1\" class=\"dataframe\">\n",
       "  <thead>\n",
       "    <tr style=\"text-align: right;\">\n",
       "      <th></th>\n",
       "      <th>product_id</th>\n",
       "      <th>quantity</th>\n",
       "      <th>name</th>\n",
       "      <th>date</th>\n",
       "    </tr>\n",
       "  </thead>\n",
       "  <tbody>\n",
       "    <tr>\n",
       "      <th>0</th>\n",
       "      <td>47</td>\n",
       "      <td>1</td>\n",
       "      <td>Alexey_Smirnov</td>\n",
       "      <td>2020-12-03</td>\n",
       "    </tr>\n",
       "    <tr>\n",
       "      <th>1</th>\n",
       "      <td>57</td>\n",
       "      <td>1</td>\n",
       "      <td>Alexey_Smirnov</td>\n",
       "      <td>2020-12-03</td>\n",
       "    </tr>\n",
       "    <tr>\n",
       "      <th>2</th>\n",
       "      <td>14</td>\n",
       "      <td>2</td>\n",
       "      <td>Alexey_Smirnov</td>\n",
       "      <td>2020-12-03</td>\n",
       "    </tr>\n",
       "    <tr>\n",
       "      <th>3</th>\n",
       "      <td>52</td>\n",
       "      <td>1</td>\n",
       "      <td>Alexey_Smirnov</td>\n",
       "      <td>2020-12-03</td>\n",
       "    </tr>\n",
       "    <tr>\n",
       "      <th>4</th>\n",
       "      <td>1</td>\n",
       "      <td>4</td>\n",
       "      <td>Alexey_Smirnov</td>\n",
       "      <td>2020-12-03</td>\n",
       "    </tr>\n",
       "  </tbody>\n",
       "</table>\n",
       "</div>"
      ],
      "text/plain": [
       "   product_id  quantity            name        date\n",
       "0          47         1  Alexey_Smirnov  2020-12-03\n",
       "1          57         1  Alexey_Smirnov  2020-12-03\n",
       "2          14         2  Alexey_Smirnov  2020-12-03\n",
       "3          52         1  Alexey_Smirnov  2020-12-03\n",
       "4           1         4  Alexey_Smirnov  2020-12-03"
      ]
     },
     "metadata": {},
     "output_type": "display_data"
    },
    {
     "data": {
      "text/plain": [
       "product_id     int64\n",
       "quantity       int64\n",
       "name          object\n",
       "date          object\n",
       "dtype: object"
      ]
     },
     "metadata": {},
     "output_type": "display_data"
    },
    {
     "data": {
      "text/plain": [
       "(161, 4)"
      ]
     },
     "execution_count": 5,
     "metadata": {},
     "output_type": "execute_result"
    }
   ],
   "source": [
    "# Посмотрим на датафрэйм, типы колонок и форму\n",
    "display(df.head())\n",
    "display(df.dtypes)\n",
    "df.shape"
   ]
  },
  {
   "cell_type": "code",
   "execution_count": 6,
   "metadata": {},
   "outputs": [
    {
     "data": {
      "text/plain": [
       "480"
      ]
     },
     "execution_count": 6,
     "metadata": {},
     "output_type": "execute_result"
    }
   ],
   "source": [
    "df.quantity.sum()"
   ]
  },
  {
   "cell_type": "code",
   "execution_count": 7,
   "metadata": {},
   "outputs": [
    {
     "data": {
      "text/plain": [
       "'Alexey_Smirnov, Petr_Smirnov'"
      ]
     },
     "execution_count": 7,
     "metadata": {},
     "output_type": "execute_result"
    }
   ],
   "source": [
    "# Определим пользователя(ей), с наибольшим числом покупок\n",
    "max_purcheses = df.groupby('name').quantity.sum().max()\n",
    "users_purcheses = df.groupby('name', as_index=False) \\\n",
    "                    .quantity.sum() \\\n",
    "                    .rename(columns={'quantity':'num_purcheses'})\n",
    "users_with_max_purcheses = ', '.join(users_purcheses.query('num_purcheses == @max_purcheses') \\\n",
    "                                                    .name.sort_values()\\\n",
    "                                                    .to_list())\n",
    "users_with_max_purcheses"
   ]
  },
  {
   "cell_type": "code",
   "execution_count": 8,
   "metadata": {},
   "outputs": [],
   "source": [
    "# Найдем Топ-10 самых продоваемых товаров и построим барплот\n",
    "top_10_products_df = df.groupby('product_id', as_index=False) \\\n",
    "                        .quantity.sum() \\\n",
    "                        .sort_values('quantity', ascending=False) \\\n",
    "                        .head(10)"
   ]
  },
  {
   "cell_type": "code",
   "execution_count": 9,
   "metadata": {},
   "outputs": [
    {
     "data": {
      "text/plain": [
       "<AxesSubplot:xlabel='product_id', ylabel='quantity'>"
      ]
     },
     "execution_count": 9,
     "metadata": {},
     "output_type": "execute_result"
    },
    {
     "data": {
      "image/png": "[encoded data removed]",
      "text/plain": [
       "<Figure size 432x288 with 1 Axes>"
      ]
     },
     "metadata": {
      "needs_background": "light"
     },
     "output_type": "display_data"
    }
   ],
   "source": [
    "sns.barplot(x='product_id', y='quantity', data=top_10_products_df)"
   ]
  },
  {
   "cell_type": "code",
   "execution_count": 10,
   "metadata": {},
   "outputs": [
    {
     "data": {
      "text/html": [
       "<div>\n",
       "<style scoped>\n",
       "    .dataframe tbody tr th:only-of-type {\n",
       "        vertical-align: middle;\n",
       "    }\n",
       "\n",
       "    .dataframe tbody tr th {\n",
       "        vertical-align: top;\n",
       "    }\n",
       "\n",
       "    .dataframe thead th {\n",
       "        text-align: right;\n",
       "    }\n",
       "</style>\n",
       "<table border=\"1\" class=\"dataframe\">\n",
       "  <thead>\n",
       "    <tr style=\"text-align: right;\">\n",
       "      <th></th>\n",
       "      <th>product_id</th>\n",
       "      <th>quantity</th>\n",
       "    </tr>\n",
       "  </thead>\n",
       "  <tbody>\n",
       "    <tr>\n",
       "      <th>42</th>\n",
       "      <td>56</td>\n",
       "      <td>18</td>\n",
       "    </tr>\n",
       "  </tbody>\n",
       "</table>\n",
       "</div>"
      ],
      "text/plain": [
       "    product_id  quantity\n",
       "42          56        18"
      ]
     },
     "execution_count": 10,
     "metadata": {},
     "output_type": "execute_result"
    }
   ],
   "source": [
    "top_10_products_df.query('product_id == 56')"
   ]
  },
  {
   "cell_type": "code",
   "execution_count": 11,
   "metadata": {},
   "outputs": [],
   "source": [
    "# Посмотрим на количество продаж по дням\n",
    "num_purcheses_per_day = df.groupby('date', as_index=False) \\\n",
    "                          .quantity.sum()"
   ]
  },
  {
   "cell_type": "code",
   "execution_count": 12,
   "metadata": {},
   "outputs": [
    {
     "data": {
      "text/plain": [
       "<AxesSubplot:xlabel='date', ylabel='quantity'>"
      ]
     },
     "execution_count": 12,
     "metadata": {},
     "output_type": "execute_result"
    },
    {
     "data": {
      "image/png": "[encoded data removed]",
      "text/plain": [
       "<Figure size 864x576 with 1 Axes>"
      ]
     },
     "metadata": {
      "needs_background": "light"
     },
     "output_type": "display_data"
    }
   ],
   "source": [
    "plt.figure(figsize=(12,8))\n",
    "sns.barplot(x='date', y='quantity', data=num_purcheses_per_day)"
   ]
  },
  {
   "cell_type": "code",
   "execution_count": 13,
   "metadata": {},
   "outputs": [
    {
     "data": {
      "text/plain": [
       "2"
      ]
     },
     "execution_count": 13,
     "metadata": {},
     "output_type": "execute_result"
    }
   ],
   "source": [
    "# Найдем количество пользователей, совершивших повторную покупку того же товара в другой день\n",
    "df_without_dupl_in_day = df.drop_duplicates(subset=['name', 'product_id', 'date'])\n",
    "df_without_dupl_in_day.loc[df_without_dupl_in_day.duplicated(subset=['name', 'product_id'], keep=False)].name.nunique()"
   ]
  },
  {
   "cell_type": "code",
   "execution_count": 14,
   "metadata": {},
   "outputs": [
    {
     "data": {
      "text/plain": [
       "2"
      ]
     },
     "execution_count": 14,
     "metadata": {},
     "output_type": "execute_result"
    }
   ],
   "source": [
    "# Еще один вариант решения\n",
    "df.groupby(['name', 'product_id'], as_index=False) \\\n",
    "    .date.nunique() \\\n",
    "    .query('date > 1') \\\n",
    "    .name.count()"
   ]
  },
  {
   "cell_type": "code",
   "execution_count": null,
   "metadata": {},
   "outputs": [],
   "source": []
  }
 ],
 "metadata": {
  "kernelspec": {
   "display_name": "Python 3 (ipykernel)",
   "language": "python",
   "name": "python3"
  },
  "language_info": {
   "codemirror_mode": {
    "name": "ipython",
    "version": 3
   },
   "file_extension": ".py",
   "mimetype": "text/x-python",
   "name": "python",
   "nbconvert_exporter": "python",
   "pygments_lexer": "ipython3",
   "version": "3.8.12"
  }
 },
 "nbformat": 4,
 "nbformat_minor": 4
}
